{
 "cells": [
  {
   "cell_type": "code",
   "execution_count": 1,
   "id": "49d766b1",
   "metadata": {
    "_cell_guid": "b1076dfc-b9ad-4769-8c92-a6c4dae69d19",
    "_uuid": "8f2839f25d086af736a60e9eeb907d3b93b6e0e5",
    "execution": {
     "iopub.execute_input": "2021-11-07T21:46:52.510482Z",
     "iopub.status.busy": "2021-11-07T21:46:52.509787Z",
     "iopub.status.idle": "2021-11-07T21:46:52.513630Z",
     "shell.execute_reply": "2021-11-07T21:46:52.514147Z",
     "shell.execute_reply.started": "2021-11-07T17:53:41.695966Z"
    },
    "papermill": {
     "duration": 0.042894,
     "end_time": "2021-11-07T21:46:52.514494",
     "exception": false,
     "start_time": "2021-11-07T21:46:52.471600",
     "status": "completed"
    },
    "tags": []
   },
   "outputs": [],
   "source": [
    "# This Python 3 environment comes with many helpful analytics libraries installed\n",
    "# It is defined by the kaggle/python Docker image: https://github.com/kaggle/docker-python\n",
    "# For example, here's several helpful packages to load\n",
    "\n",
    "import numpy as np # linear algebra\n",
    "import pandas as pd # data processing, CSV file I/O (e.g. pd.read_csv)\n",
    "\n",
    "# Input data files are available in the read-only \"../input/\" directory\n",
    "# For example, running this (by clicking run or pressing Shift+Enter) will list all files under the input directory\n",
    "\n",
    "import os\n",
    "# for dirname, _, filenames in os.walk('/kaggle/input'):\n",
    "#     for filename in filenames:\n",
    "#         print(os.path.join(dirname, filename))\n",
    "\n",
    "# You can write up to 20GB to the current directory (/kaggle/working/) that gets preserved as output when you create a version using \"Save & Run All\" \n",
    "# You can also write temporary files to /kaggle/temp/, but they won't be saved outside of the current session"
   ]
  },
  {
   "cell_type": "code",
   "execution_count": 2,
   "id": "c4f8477c",
   "metadata": {
    "execution": {
     "iopub.execute_input": "2021-11-07T21:46:52.572039Z",
     "iopub.status.busy": "2021-11-07T21:46:52.571352Z",
     "iopub.status.idle": "2021-11-07T21:47:00.390657Z",
     "shell.execute_reply": "2021-11-07T21:47:00.391259Z",
     "shell.execute_reply.started": "2021-11-07T17:53:41.850152Z"
    },
    "papermill": {
     "duration": 7.852102,
     "end_time": "2021-11-07T21:47:00.391455",
     "exception": false,
     "start_time": "2021-11-07T21:46:52.539353",
     "status": "completed"
    },
    "tags": []
   },
   "outputs": [],
   "source": [
    "import matplotlib.pyplot as plt\n",
    "import seaborn as sns\n",
    "from sklearn.model_selection import train_test_split\n",
    "from keras.utils.np_utils import to_categorical\n",
    "from keras.models import Sequential\n",
    "from keras.layers import Dense, Dropout, Flatten, Conv2D, MaxPool2D, AvgPool2D, BatchNormalization, Reshape\n",
    "from keras.preprocessing.image import ImageDataGenerator\n",
    "from keras.callbacks import ModelCheckpoint\n",
    "from keras.utils import np_utils\n",
    "import cv2\n",
    "from keras.models import load_model\n",
    "%matplotlib inline\n"
   ]
  },
  {
   "cell_type": "markdown",
   "id": "665ba9b3",
   "metadata": {
    "papermill": {
     "duration": 0.023924,
     "end_time": "2021-11-07T21:47:00.439417",
     "exception": false,
     "start_time": "2021-11-07T21:47:00.415493",
     "status": "completed"
    },
    "tags": []
   },
   "source": [
    "## Load Data"
   ]
  },
  {
   "cell_type": "code",
   "execution_count": 3,
   "id": "11817626",
   "metadata": {
    "execution": {
     "iopub.execute_input": "2021-11-07T21:47:00.493603Z",
     "iopub.status.busy": "2021-11-07T21:47:00.490725Z",
     "iopub.status.idle": "2021-11-07T21:47:00.534185Z",
     "shell.execute_reply": "2021-11-07T21:47:00.534729Z",
     "shell.execute_reply.started": "2021-11-07T17:53:41.870697Z"
    },
    "papermill": {
     "duration": 0.07174,
     "end_time": "2021-11-07T21:47:00.534912",
     "exception": false,
     "start_time": "2021-11-07T21:47:00.463172",
     "status": "completed"
    },
    "tags": []
   },
   "outputs": [
    {
     "data": {
      "text/html": [
       "<div>\n",
       "<style scoped>\n",
       "    .dataframe tbody tr th:only-of-type {\n",
       "        vertical-align: middle;\n",
       "    }\n",
       "\n",
       "    .dataframe tbody tr th {\n",
       "        vertical-align: top;\n",
       "    }\n",
       "\n",
       "    .dataframe thead th {\n",
       "        text-align: right;\n",
       "    }\n",
       "</style>\n",
       "<table border=\"1\" class=\"dataframe\">\n",
       "  <thead>\n",
       "    <tr style=\"text-align: right;\">\n",
       "      <th></th>\n",
       "      <th>label</th>\n",
       "    </tr>\n",
       "    <tr>\n",
       "      <th>id</th>\n",
       "      <th></th>\n",
       "    </tr>\n",
       "  </thead>\n",
       "  <tbody>\n",
       "    <tr>\n",
       "      <th>0</th>\n",
       "      <td>24</td>\n",
       "    </tr>\n",
       "    <tr>\n",
       "      <th>1</th>\n",
       "      <td>2</td>\n",
       "    </tr>\n",
       "    <tr>\n",
       "      <th>2</th>\n",
       "      <td>17</td>\n",
       "    </tr>\n",
       "    <tr>\n",
       "      <th>3</th>\n",
       "      <td>14</td>\n",
       "    </tr>\n",
       "    <tr>\n",
       "      <th>4</th>\n",
       "      <td>19</td>\n",
       "    </tr>\n",
       "  </tbody>\n",
       "</table>\n",
       "</div>"
      ],
      "text/plain": [
       "    label\n",
       "id       \n",
       "0      24\n",
       "1       2\n",
       "2      17\n",
       "3      14\n",
       "4      19"
      ]
     },
     "execution_count": 3,
     "metadata": {},
     "output_type": "execute_result"
    }
   ],
   "source": [
    "# get ids and labels of the train images\n",
    "train_labels = pd.read_csv(\"../input/arabic-hwr-ai-pro-intake1/train.csv\")\n",
    "train_labels =train_labels.set_index(\"id\")\n",
    "train_labels.head()"
   ]
  },
  {
   "cell_type": "code",
   "execution_count": 4,
   "id": "23a57cd0",
   "metadata": {
    "execution": {
     "iopub.execute_input": "2021-11-07T21:47:00.588814Z",
     "iopub.status.busy": "2021-11-07T21:47:00.587777Z",
     "iopub.status.idle": "2021-11-07T21:47:00.604618Z",
     "shell.execute_reply": "2021-11-07T21:47:00.605125Z",
     "shell.execute_reply.started": "2021-11-07T17:53:42.019201Z"
    },
    "papermill": {
     "duration": 0.045393,
     "end_time": "2021-11-07T21:47:00.605315",
     "exception": false,
     "start_time": "2021-11-07T21:47:00.559922",
     "status": "completed"
    },
    "tags": []
   },
   "outputs": [
    {
     "data": {
      "text/plain": [
       "label\n",
       "1        480\n",
       "2        480\n",
       "27       480\n",
       "26       480\n",
       "25       480\n",
       "24       480\n",
       "23       480\n",
       "22       480\n",
       "21       480\n",
       "20       480\n",
       "19       480\n",
       "18       480\n",
       "17       480\n",
       "16       480\n",
       "15       480\n",
       "14       480\n",
       "13       480\n",
       "12       480\n",
       "11       480\n",
       "10       480\n",
       "9        480\n",
       "8        480\n",
       "7        480\n",
       "6        480\n",
       "5        480\n",
       "4        480\n",
       "3        480\n",
       "28       480\n",
       "dtype: int64"
      ]
     },
     "execution_count": 4,
     "metadata": {},
     "output_type": "execute_result"
    }
   ],
   "source": [
    "train_labels.value_counts()"
   ]
  },
  {
   "cell_type": "markdown",
   "id": "4ede0069",
   "metadata": {
    "papermill": {
     "duration": 0.024437,
     "end_time": "2021-11-07T21:47:00.654331",
     "exception": false,
     "start_time": "2021-11-07T21:47:00.629894",
     "status": "completed"
    },
    "tags": []
   },
   "source": [
    "The dataset is perfectly balanced with each letter has 480 training examples"
   ]
  },
  {
   "cell_type": "code",
   "execution_count": 5,
   "id": "7248463b",
   "metadata": {
    "execution": {
     "iopub.execute_input": "2021-11-07T21:47:00.707770Z",
     "iopub.status.busy": "2021-11-07T21:47:00.706745Z",
     "iopub.status.idle": "2021-11-07T21:47:00.728770Z",
     "shell.execute_reply": "2021-11-07T21:47:00.729292Z",
     "shell.execute_reply.started": "2021-11-07T17:53:42.047406Z"
    },
    "papermill": {
     "duration": 0.050441,
     "end_time": "2021-11-07T21:47:00.729489",
     "exception": false,
     "start_time": "2021-11-07T21:47:00.679048",
     "status": "completed"
    },
    "tags": []
   },
   "outputs": [
    {
     "data": {
      "text/html": [
       "<div>\n",
       "<style scoped>\n",
       "    .dataframe tbody tr th:only-of-type {\n",
       "        vertical-align: middle;\n",
       "    }\n",
       "\n",
       "    .dataframe tbody tr th {\n",
       "        vertical-align: top;\n",
       "    }\n",
       "\n",
       "    .dataframe thead th {\n",
       "        text-align: right;\n",
       "    }\n",
       "</style>\n",
       "<table border=\"1\" class=\"dataframe\">\n",
       "  <thead>\n",
       "    <tr style=\"text-align: right;\">\n",
       "      <th></th>\n",
       "      <th>id</th>\n",
       "    </tr>\n",
       "  </thead>\n",
       "  <tbody>\n",
       "    <tr>\n",
       "      <th>0</th>\n",
       "      <td>0</td>\n",
       "    </tr>\n",
       "    <tr>\n",
       "      <th>1</th>\n",
       "      <td>1</td>\n",
       "    </tr>\n",
       "    <tr>\n",
       "      <th>2</th>\n",
       "      <td>2</td>\n",
       "    </tr>\n",
       "    <tr>\n",
       "      <th>3</th>\n",
       "      <td>3</td>\n",
       "    </tr>\n",
       "    <tr>\n",
       "      <th>4</th>\n",
       "      <td>4</td>\n",
       "    </tr>\n",
       "  </tbody>\n",
       "</table>\n",
       "</div>"
      ],
      "text/plain": [
       "   id\n",
       "0   0\n",
       "1   1\n",
       "2   2\n",
       "3   3\n",
       "4   4"
      ]
     },
     "execution_count": 5,
     "metadata": {},
     "output_type": "execute_result"
    }
   ],
   "source": [
    "# get ids of the test images\n",
    "test_ids = pd.read_csv(\"../input/arabic-hwr-ai-pro-intake1/test.csv\")\n",
    "test_ids.head()"
   ]
  },
  {
   "cell_type": "code",
   "execution_count": 6,
   "id": "a4cc07ba",
   "metadata": {
    "execution": {
     "iopub.execute_input": "2021-11-07T21:47:00.783391Z",
     "iopub.status.busy": "2021-11-07T21:47:00.782408Z",
     "iopub.status.idle": "2021-11-07T21:47:47.383866Z",
     "shell.execute_reply": "2021-11-07T21:47:47.383298Z",
     "shell.execute_reply.started": "2021-11-07T17:53:42.203964Z"
    },
    "papermill": {
     "duration": 46.629406,
     "end_time": "2021-11-07T21:47:47.384022",
     "exception": false,
     "start_time": "2021-11-07T21:47:00.754616",
     "status": "completed"
    },
    "tags": []
   },
   "outputs": [],
   "source": [
    "# load train images and there corresponding labels\n",
    "path = os.path.join(\"../input/arabic-hwr-ai-pro-intake1/train\")\n",
    "data = []\n",
    "labels =[]\n",
    "for img in os.listdir(path):\n",
    "    labels.append (train_labels.loc[int(os.path.splitext(img)[0])][\"label\"]-1) # minus one to get labels from 0 to 27\n",
    "    try:\n",
    "        img_arr = cv2.imread(os.path.join(path, img))[...,::-1] #convert BGR to RGB format\n",
    "        data.append(img_arr)\n",
    "    except Exception as e:\n",
    "            print(e)    "
   ]
  },
  {
   "cell_type": "code",
   "execution_count": 7,
   "id": "2bb9adf0",
   "metadata": {
    "execution": {
     "iopub.execute_input": "2021-11-07T21:47:47.441963Z",
     "iopub.status.busy": "2021-11-07T21:47:47.441266Z",
     "iopub.status.idle": "2021-11-07T21:47:58.544415Z",
     "shell.execute_reply": "2021-11-07T21:47:58.543680Z",
     "shell.execute_reply.started": "2021-11-07T17:54:16.276608Z"
    },
    "papermill": {
     "duration": 11.134892,
     "end_time": "2021-11-07T21:47:58.544583",
     "exception": false,
     "start_time": "2021-11-07T21:47:47.409691",
     "status": "completed"
    },
    "tags": []
   },
   "outputs": [],
   "source": [
    "# load test images and there corresponding ids\n",
    "path2 = os.path.join(\"../input/arabic-hwr-ai-pro-intake1/test\")\n",
    "data_test = []\n",
    "id_test = []\n",
    "for img in os.listdir(path2):\n",
    "    id_test.append(test_ids.loc[int(os.path.splitext(img)[0])][\"id\"])\n",
    "    try:\n",
    "        img_arr = cv2.imread(os.path.join(path2, img))[...,::-1] #convert BGR to RGB format\n",
    "        data_test.append(img_arr)\n",
    "    except Exception as e:\n",
    "            print(e)    "
   ]
  },
  {
   "cell_type": "code",
   "execution_count": 8,
   "id": "3159f018",
   "metadata": {
    "execution": {
     "iopub.execute_input": "2021-11-07T21:47:58.617269Z",
     "iopub.status.busy": "2021-11-07T21:47:58.616562Z",
     "iopub.status.idle": "2021-11-07T21:47:58.850184Z",
     "shell.execute_reply": "2021-11-07T21:47:58.850791Z",
     "shell.execute_reply.started": "2021-11-07T17:54:21.592836Z"
    },
    "papermill": {
     "duration": 0.281003,
     "end_time": "2021-11-07T21:47:58.850963",
     "exception": false,
     "start_time": "2021-11-07T21:47:58.569960",
     "status": "completed"
    },
    "tags": []
   },
   "outputs": [
    {
     "data": {
      "image/png": "[encoded data removed]",
      "text/plain": [
       "<Figure size 432x288 with 1 Axes>"
      ]
     },
     "metadata": {
      "needs_background": "light"
     },
     "output_type": "display_data"
    }
   ],
   "source": [
    "# visualize one of the train images and its label\n",
    "plt.imshow(data[10000])\n",
    "plt.title(labels[10000]);"
   ]
  },
  {
   "cell_type": "markdown",
   "id": "a93fa720",
   "metadata": {
    "papermill": {
     "duration": 0.025219,
     "end_time": "2021-11-07T21:47:58.901520",
     "exception": false,
     "start_time": "2021-11-07T21:47:58.876301",
     "status": "completed"
    },
    "tags": []
   },
   "source": [
    "## Data Preprocessing"
   ]
  },
  {
   "cell_type": "code",
   "execution_count": 9,
   "id": "9bdb7b6c",
   "metadata": {
    "execution": {
     "iopub.execute_input": "2021-11-07T21:47:58.964157Z",
     "iopub.status.busy": "2021-11-07T21:47:58.958625Z",
     "iopub.status.idle": "2021-11-07T21:47:59.149948Z",
     "shell.execute_reply": "2021-11-07T21:47:59.149307Z",
     "shell.execute_reply.started": "2021-11-07T17:54:21.887556Z"
    },
    "papermill": {
     "duration": 0.223269,
     "end_time": "2021-11-07T21:47:59.150173",
     "exception": false,
     "start_time": "2021-11-07T21:47:58.926904",
     "status": "completed"
    },
    "tags": []
   },
   "outputs": [],
   "source": [
    "# split data to train and validation sets\n",
    "X = np.asarray(data[:])\n",
    "y = np.asarray(labels[:])\n",
    "x_train, x_val, y_train, y_val = train_test_split(X,y, test_size = 0.2,stratify=y, random_state = 80)\n",
    "x_test = np.asarray(data_test[:])\n",
    "y_train = y_train.reshape(-1,1)\n",
    "y_val = y_val.reshape(-1,1)"
   ]
  },
  {
   "cell_type": "code",
   "execution_count": 10,
   "id": "c4b0adff",
   "metadata": {
    "execution": {
     "iopub.execute_input": "2021-11-07T21:47:59.209992Z",
     "iopub.status.busy": "2021-11-07T21:47:59.208821Z",
     "iopub.status.idle": "2021-11-07T21:47:59.306995Z",
     "shell.execute_reply": "2021-11-07T21:47:59.307568Z",
     "shell.execute_reply.started": "2021-11-07T17:54:22.172907Z"
    },
    "papermill": {
     "duration": 0.131801,
     "end_time": "2021-11-07T21:47:59.307758",
     "exception": false,
     "start_time": "2021-11-07T21:47:59.175957",
     "status": "completed"
    },
    "tags": []
   },
   "outputs": [
    {
     "name": "stdout",
     "output_type": "stream",
     "text": [
      "Shape before one-hot encoding:  (10752, 1)\n",
      "Shape after one-hot encoding:  (10752, 28)\n"
     ]
    }
   ],
   "source": [
    "\n",
    "# # building the input vector from the 32x32 pixels\n",
    "x_train = x_train.reshape(x_train.shape[0], 32, 32, 3)\n",
    "x_val = x_val.reshape(x_val.shape[0], 32, 32, 3)\n",
    "x_test = x_test.reshape(x_test.shape[0], 32, 32, 3)\n",
    "\n",
    "x_train = x_train.astype('float32')\n",
    "x_val = x_val.astype('float32')\n",
    "x_test = x_test.astype('float32')\n",
    "\n",
    "\n",
    "# normalizing the data to help with the training\n",
    "x_train /= 255.0\n",
    "x_val /= 255.0\n",
    "x_test /= 255.0\n",
    "\n",
    "\n",
    "# one-hot encoding using keras' numpy-related utilities\n",
    "n_classes = 28\n",
    "print(\"Shape before one-hot encoding: \", y_train.shape)\n",
    "Y_train = np_utils.to_categorical(y_train, n_classes)\n",
    "Y_val = np_utils.to_categorical(y_val, n_classes)\n",
    "print(\"Shape after one-hot encoding: \", Y_train.shape)"
   ]
  },
  {
   "cell_type": "markdown",
   "id": "b8016134",
   "metadata": {
    "papermill": {
     "duration": 0.02526,
     "end_time": "2021-11-07T21:47:59.358927",
     "exception": false,
     "start_time": "2021-11-07T21:47:59.333667",
     "status": "completed"
    },
    "tags": []
   },
   "source": [
    "## CNN Model"
   ]
  },
  {
   "cell_type": "code",
   "execution_count": 11,
   "id": "7c46d915",
   "metadata": {
    "execution": {
     "iopub.execute_input": "2021-11-07T21:47:59.420080Z",
     "iopub.status.busy": "2021-11-07T21:47:59.419111Z",
     "iopub.status.idle": "2021-11-07T21:47:59.422036Z",
     "shell.execute_reply": "2021-11-07T21:47:59.422666Z",
     "shell.execute_reply.started": "2021-11-07T17:54:22.329895Z"
    },
    "papermill": {
     "duration": 0.038275,
     "end_time": "2021-11-07T21:47:59.422860",
     "exception": false,
     "start_time": "2021-11-07T21:47:59.384585",
     "status": "completed"
    },
    "tags": []
   },
   "outputs": [],
   "source": [
    "# create a checkpoint to save the best model among epochs on the validation data\n",
    "checkpoint = ModelCheckpoint(filepath =\"./best_weight.h5\",\n",
    "                            monitor='val_accuracy',\n",
    "                            verbose=1,\n",
    "                            save_best_only=True,\n",
    "                            mode='max')"
   ]
  },
  {
   "cell_type": "code",
   "execution_count": 12,
   "id": "f1d96433",
   "metadata": {
    "execution": {
     "iopub.execute_input": "2021-11-07T21:47:59.496752Z",
     "iopub.status.busy": "2021-11-07T21:47:59.495755Z",
     "iopub.status.idle": "2021-11-07T21:47:59.763304Z",
     "shell.execute_reply": "2021-11-07T21:47:59.763858Z",
     "shell.execute_reply.started": "2021-11-07T17:54:22.339553Z"
    },
    "papermill": {
     "duration": 0.307368,
     "end_time": "2021-11-07T21:47:59.764033",
     "exception": false,
     "start_time": "2021-11-07T21:47:59.456665",
     "status": "completed"
    },
    "tags": []
   },
   "outputs": [
    {
     "name": "stderr",
     "output_type": "stream",
     "text": [
      "\n",
      "User settings:\n",
      "\n",
      "   KMP_AFFINITY=granularity=fine,verbose,compact,1,0\n",
      "   KMP_BLOCKTIME=0\n",
      "   KMP_DUPLICATE_LIB_OK=True\n",
      "   KMP_INIT_AT_FORK=FALSE\n",
      "   KMP_SETTINGS=1\n",
      "   KMP_WARNINGS=0\n",
      "\n",
      "Effective settings:\n",
      "\n",
      "   KMP_ABORT_DELAY=0\n",
      "   KMP_ADAPTIVE_LOCK_PROPS='1,1024'\n",
      "   KMP_ALIGN_ALLOC=64\n",
      "   KMP_ALL_THREADPRIVATE=128\n",
      "   KMP_ATOMIC_MODE=2\n",
      "   KMP_BLOCKTIME=0\n",
      "   KMP_CPUINFO_FILE: value is not defined\n",
      "   KMP_DETERMINISTIC_REDUCTION=false\n",
      "   KMP_DEVICE_THREAD_LIMIT=2147483647\n",
      "   KMP_DISP_NUM_BUFFERS=7\n",
      "   KMP_DUPLICATE_LIB_OK=true\n",
      "   KMP_ENABLE_TASK_THROTTLING=true\n",
      "   KMP_FORCE_REDUCTION: value is not defined\n",
      "   KMP_FOREIGN_THREADS_THREADPRIVATE=true\n",
      "   KMP_FORKJOIN_BARRIER='2,2'\n",
      "   KMP_FORKJOIN_BARRIER_PATTERN='hyper,hyper'\n",
      "   KMP_GTID_MODE=3\n",
      "   KMP_HANDLE_SIGNALS=false\n",
      "   KMP_HOT_TEAMS_MAX_LEVEL=1\n",
      "   KMP_HOT_TEAMS_MODE=0\n",
      "   KMP_INIT_AT_FORK=true\n",
      "   KMP_LIBRARY=throughput\n",
      "   KMP_LOCK_KIND=queuing\n",
      "   KMP_MALLOC_POOL_INCR=1M\n",
      "   KMP_NUM_LOCKS_IN_BLOCK=1\n",
      "   KMP_PLAIN_BARRIER='2,2'\n",
      "   KMP_PLAIN_BARRIER_PATTERN='hyper,hyper'\n",
      "   KMP_REDUCTION_BARRIER='1,1'\n",
      "   KMP_REDUCTION_BARRIER_PATTERN='hyper,hyper'\n",
      "   KMP_SCHEDULE='static,balanced;guided,iterative'\n",
      "   KMP_SETTINGS=true\n",
      "   KMP_SPIN_BACKOFF_PARAMS='4096,100'\n",
      "   KMP_STACKOFFSET=64\n",
      "   KMP_STACKPAD=0\n",
      "   KMP_STACKSIZE=8M\n",
      "   KMP_STORAGE_MAP=false\n",
      "   KMP_TASKING=2\n",
      "   KMP_TASKLOOP_MIN_TASKS=0\n",
      "   KMP_TASK_STEALING_CONSTRAINT=1\n",
      "   KMP_TEAMS_THREAD_LIMIT=4\n",
      "   KMP_TOPOLOGY_METHOD=all\n",
      "   KMP_USE_YIELD=1\n",
      "   KMP_VERSION=false\n",
      "   KMP_WARNINGS=false\n",
      "   OMP_AFFINITY_FORMAT='OMP: pid %P tid %i thread %n bound to OS proc set {%A}'\n",
      "   OMP_ALLOCATOR=omp_default_mem_alloc\n",
      "   OMP_CANCELLATION=false\n",
      "   OMP_DEFAULT_DEVICE=0\n",
      "   OMP_DISPLAY_AFFINITY=false\n",
      "   OMP_DISPLAY_ENV=false\n",
      "   OMP_DYNAMIC=false\n",
      "   OMP_MAX_ACTIVE_LEVELS=1\n",
      "   OMP_MAX_TASK_PRIORITY=0\n",
      "   OMP_NESTED: deprecated; max-active-levels-var=1\n",
      "   OMP_NUM_THREADS: value is not defined\n",
      "   OMP_PLACES: value is not defined\n",
      "   OMP_PROC_BIND='intel'\n",
      "   OMP_SCHEDULE='static'\n",
      "   OMP_STACKSIZE=8M\n",
      "   OMP_TARGET_OFFLOAD=DEFAULT\n",
      "   OMP_THREAD_LIMIT=2147483647\n",
      "   OMP_WAIT_POLICY=PASSIVE\n",
      "   KMP_AFFINITY='verbose,warnings,respect,granularity=fine,compact,1,0'\n",
      "\n",
      "2021-11-07 21:47:59.539142: I tensorflow/core/common_runtime/process_util.cc:146] Creating new thread pool with default inter op setting: 2. Tune using inter_op_parallelism_threads for best performance.\n"
     ]
    }
   ],
   "source": [
    "# building a linear stack of layers with the sequential model\n",
    "model = Sequential()\n",
    "\n",
    "# convolutional layer\n",
    "model.add(Conv2D(50, kernel_size=(3,3), strides=(1,1), padding='same', activation='relu', input_shape=(32, 32, 3)))\n",
    "\n",
    "# convolutional layer\n",
    "model.add(Conv2D(75, kernel_size=(3,3), strides=(1,1), padding='same', activation='relu'))\n",
    "model.add(MaxPool2D(pool_size=(2,2)))\n",
    "model.add(Dropout(0.25))\n",
    "\n",
    "model.add(Conv2D(125, kernel_size=(3,3), strides=(1,1), padding='same', activation='relu'))\n",
    "model.add(MaxPool2D(pool_size=(2,2)))\n",
    "model.add(Dropout(0.25))\n",
    "\n",
    "model.add(Conv2D(200, kernel_size=(3,3), strides=(1,1), padding='same', activation='relu'))\n",
    "model.add(MaxPool2D(pool_size=(2,2)))\n",
    "model.add(Dropout(0.3))\n",
    "\n",
    "# flatten output of conv\n",
    "model.add(Flatten())\n",
    "\n",
    "# hidden layer\n",
    "model.add(Dense(500, activation='relu'))\n",
    "model.add(Dropout(0.4))\n",
    "model.add(Dense(250, activation='relu'))\n",
    "model.add(Dropout(0.3))\n",
    "# output layer\n",
    "model.add(Dense(28, activation='softmax'))\n",
    "\n",
    "# compiling the sequential model\n",
    "model.compile(loss='categorical_crossentropy', metrics=['accuracy'], optimizer='adam')\n",
    "\n",
    "#model.fit(x_train, Y_train, batch_size=128, epochs=100, validation_data=(x_val, Y_val),callbacks=[checkpoint]);\n"
   ]
  },
  {
   "cell_type": "code",
   "execution_count": 13,
   "id": "a34e2bb0",
   "metadata": {
    "execution": {
     "iopub.execute_input": "2021-11-07T21:47:59.827483Z",
     "iopub.status.busy": "2021-11-07T21:47:59.826127Z",
     "iopub.status.idle": "2021-11-07T21:47:59.893498Z",
     "shell.execute_reply": "2021-11-07T21:47:59.892867Z",
     "shell.execute_reply.started": "2021-11-07T17:54:22.531307Z"
    },
    "papermill": {
     "duration": 0.102787,
     "end_time": "2021-11-07T21:47:59.893654",
     "exception": false,
     "start_time": "2021-11-07T21:47:59.790867",
     "status": "completed"
    },
    "tags": []
   },
   "outputs": [],
   "source": [
    "# Data augmentation to create rotated, zoomed and shifted versions of the train images\n",
    "datagen = ImageDataGenerator(\n",
    "        featurewise_center=False,  # set input mean to 0 over the dataset\n",
    "        samplewise_center=False,  # set each sample mean to 0\n",
    "        featurewise_std_normalization=False,  # divide inputs by std of the dataset\n",
    "        samplewise_std_normalization=False,  # divide each input by its std\n",
    "        zca_whitening=False,  # dimesion reduction\n",
    "        rotation_range=5,  # randomly rotate images in the range 5 degrees\n",
    "        zoom_range = 0.1, # Randomly zoom image 10%\n",
    "        width_shift_range=0.1,  # randomly shift images horizontally 10%\n",
    "        height_shift_range=0.1,  # randomly shift images vertically 10%\n",
    "        #shear_range=0.1,          #shear images --------------------\n",
    "        horizontal_flip=False,  # randomly flip images\n",
    "        vertical_flip=False)  # randomly flip images\n",
    "\n",
    "datagen.fit(x_train)"
   ]
  },
  {
   "cell_type": "code",
   "execution_count": 14,
   "id": "fbfb9001",
   "metadata": {
    "execution": {
     "iopub.execute_input": "2021-11-07T21:47:59.952282Z",
     "iopub.status.busy": "2021-11-07T21:47:59.951365Z",
     "iopub.status.idle": "2021-11-07T21:47:59.954362Z",
     "shell.execute_reply": "2021-11-07T21:47:59.954828Z",
     "shell.execute_reply.started": "2021-11-07T17:54:22.797760Z"
    },
    "papermill": {
     "duration": 0.034644,
     "end_time": "2021-11-07T21:47:59.955003",
     "exception": false,
     "start_time": "2021-11-07T21:47:59.920359",
     "status": "completed"
    },
    "tags": []
   },
   "outputs": [],
   "source": [
    "# # training the model\n",
    "# history = model.fit_generator(datagen.flow(x_train,Y_train, batch_size=128),\n",
    "#                               epochs = 150, validation_data = (x_val,Y_val),callbacks=[checkpoint])\n"
   ]
  },
  {
   "cell_type": "markdown",
   "id": "ae568ced",
   "metadata": {
    "papermill": {
     "duration": 0.026261,
     "end_time": "2021-11-07T21:48:00.008179",
     "exception": false,
     "start_time": "2021-11-07T21:47:59.981918",
     "status": "completed"
    },
    "tags": []
   },
   "source": [
    "## Predictions"
   ]
  },
  {
   "cell_type": "code",
   "execution_count": 15,
   "id": "3df233e9",
   "metadata": {
    "execution": {
     "iopub.execute_input": "2021-11-07T21:48:00.068797Z",
     "iopub.status.busy": "2021-11-07T21:48:00.067963Z",
     "iopub.status.idle": "2021-11-07T21:48:00.953652Z",
     "shell.execute_reply": "2021-11-07T21:48:00.954265Z",
     "shell.execute_reply.started": "2021-11-07T20:37:42.422080Z"
    },
    "papermill": {
     "duration": 0.919581,
     "end_time": "2021-11-07T21:48:00.954452",
     "exception": false,
     "start_time": "2021-11-07T21:48:00.034871",
     "status": "completed"
    },
    "tags": []
   },
   "outputs": [],
   "source": [
    "# load the best model saved during the training using the checkpoint\n",
    "optimal_model = load_model('../input/input-file/best_weight._data_aug1_140epoch_extralayer.h5')\n",
    "# recompiling the sequential model\n",
    "optimal_model.compile(loss='categorical_crossentropy', metrics=['accuracy'], optimizer='adam')"
   ]
  },
  {
   "cell_type": "code",
   "execution_count": 16,
   "id": "a88b9e82",
   "metadata": {
    "execution": {
     "iopub.execute_input": "2021-11-07T21:48:01.011048Z",
     "iopub.status.busy": "2021-11-07T21:48:01.010363Z",
     "iopub.status.idle": "2021-11-07T21:48:06.345637Z",
     "shell.execute_reply": "2021-11-07T21:48:06.344656Z",
     "shell.execute_reply.started": "2021-11-07T20:37:42.897323Z"
    },
    "papermill": {
     "duration": 5.364148,
     "end_time": "2021-11-07T21:48:06.345786",
     "exception": false,
     "start_time": "2021-11-07T21:48:00.981638",
     "status": "completed"
    },
    "tags": []
   },
   "outputs": [
    {
     "name": "stderr",
     "output_type": "stream",
     "text": [
      "2021-11-07 21:48:01.111154: I tensorflow/compiler/mlir/mlir_graph_optimization_pass.cc:185] None of the MLIR Optimization Passes are enabled (registered 2)\n"
     ]
    }
   ],
   "source": [
    "# use the best model to classify the test images\n",
    "y_test_predicted = optimal_model.predict(x_test)\n",
    "y_classes = [np.argmax(y, axis=None, out=None)+ 1 for y in y_test_predicted]\n"
   ]
  },
  {
   "cell_type": "code",
   "execution_count": 17,
   "id": "1624a4c4",
   "metadata": {
    "execution": {
     "iopub.execute_input": "2021-11-07T21:48:06.403008Z",
     "iopub.status.busy": "2021-11-07T21:48:06.402032Z",
     "iopub.status.idle": "2021-11-07T21:48:06.619413Z",
     "shell.execute_reply": "2021-11-07T21:48:06.619955Z",
     "shell.execute_reply.started": "2021-11-07T20:37:48.322244Z"
    },
    "papermill": {
     "duration": 0.247571,
     "end_time": "2021-11-07T21:48:06.620154",
     "exception": false,
     "start_time": "2021-11-07T21:48:06.372583",
     "status": "completed"
    },
    "tags": []
   },
   "outputs": [
    {
     "data": {
      "text/plain": [
       "Text(0.5, 1.0, '25')"
      ]
     },
     "execution_count": 17,
     "metadata": {},
     "output_type": "execute_result"
    },
    {
     "data": {
      "image/png": "[encoded data removed]",
      "text/plain": [
       "<Figure size 432x288 with 1 Axes>"
      ]
     },
     "metadata": {
      "needs_background": "light"
     },
     "output_type": "display_data"
    }
   ],
   "source": [
    "# check some test images manually\n",
    "plt.imshow(x_test[1])\n",
    "plt.title(y_classes[1])"
   ]
  },
  {
   "cell_type": "code",
   "execution_count": 18,
   "id": "6f024c23",
   "metadata": {
    "execution": {
     "iopub.execute_input": "2021-11-07T21:48:06.679239Z",
     "iopub.status.busy": "2021-11-07T21:48:06.678281Z",
     "iopub.status.idle": "2021-11-07T21:49:07.510187Z",
     "shell.execute_reply": "2021-11-07T21:49:07.510747Z",
     "shell.execute_reply.started": "2021-11-07T20:37:48.601996Z"
    },
    "papermill": {
     "duration": 60.863391,
     "end_time": "2021-11-07T21:49:07.510961",
     "exception": false,
     "start_time": "2021-11-07T21:48:06.647570",
     "status": "completed"
    },
    "tags": []
   },
   "outputs": [],
   "source": [
    "# map the predicted classes of the test images to their corresponding ids\n",
    "y_new = np.zeros((len(test_ids[\"id\"].values),1),dtype = \"int\")\n",
    "for i in range(0,len(id_test)):\n",
    "    for j in range(0,len(test_ids[\"id\"].values)):\n",
    "        if id_test[i] == test_ids[\"id\"].values[j]:\n",
    "            y_new[j] = y_classes[i]"
   ]
  },
  {
   "cell_type": "code",
   "execution_count": 19,
   "id": "1c802569",
   "metadata": {
    "execution": {
     "iopub.execute_input": "2021-11-07T21:49:07.572816Z",
     "iopub.status.busy": "2021-11-07T21:49:07.569685Z",
     "iopub.status.idle": "2021-11-07T21:49:07.576634Z",
     "shell.execute_reply": "2021-11-07T21:49:07.575934Z",
     "shell.execute_reply.started": "2021-11-07T20:38:47.723238Z"
    },
    "papermill": {
     "duration": 0.037788,
     "end_time": "2021-11-07T21:49:07.576792",
     "exception": false,
     "start_time": "2021-11-07T21:49:07.539004",
     "status": "completed"
    },
    "tags": []
   },
   "outputs": [
    {
     "data": {
      "text/plain": [
       "array([[26],\n",
       "       [10],\n",
       "       [ 1],\n",
       "       [10],\n",
       "       [15]])"
      ]
     },
     "execution_count": 19,
     "metadata": {},
     "output_type": "execute_result"
    }
   ],
   "source": [
    "y_new[0:5]"
   ]
  },
  {
   "cell_type": "code",
   "execution_count": 20,
   "id": "2004810e",
   "metadata": {
    "execution": {
     "iopub.execute_input": "2021-11-07T21:49:07.645076Z",
     "iopub.status.busy": "2021-11-07T21:49:07.643923Z",
     "iopub.status.idle": "2021-11-07T21:49:07.648379Z",
     "shell.execute_reply": "2021-11-07T21:49:07.647837Z",
     "shell.execute_reply.started": "2021-11-07T20:38:47.733916Z"
    },
    "papermill": {
     "duration": 0.043664,
     "end_time": "2021-11-07T21:49:07.648522",
     "exception": false,
     "start_time": "2021-11-07T21:49:07.604858",
     "status": "completed"
    },
    "tags": []
   },
   "outputs": [
    {
     "data": {
      "text/plain": [
       "1     120\n",
       "2     119\n",
       "3     122\n",
       "4     120\n",
       "5     121\n",
       "6     120\n",
       "7     120\n",
       "8     119\n",
       "9     117\n",
       "10    127\n",
       "11    116\n",
       "12    119\n",
       "13    121\n",
       "14    125\n",
       "15    116\n",
       "16    123\n",
       "17    117\n",
       "18    117\n",
       "19    121\n",
       "20    126\n",
       "21    115\n",
       "22    122\n",
       "23    120\n",
       "24    120\n",
       "25    117\n",
       "26    120\n",
       "27    121\n",
       "28    119\n",
       "Name: label, dtype: int64"
      ]
     },
     "execution_count": 20,
     "metadata": {},
     "output_type": "execute_result"
    }
   ],
   "source": [
    "test_ids[\"label\"] = y_new\n",
    "test_ids[\"label\"].value_counts().sort_index()"
   ]
  },
  {
   "cell_type": "code",
   "execution_count": null,
   "id": "8c7c751e",
   "metadata": {
    "papermill": {
     "duration": 0.028016,
     "end_time": "2021-11-07T21:49:07.704912",
     "exception": false,
     "start_time": "2021-11-07T21:49:07.676896",
     "status": "completed"
    },
    "tags": []
   },
   "outputs": [],
   "source": []
  },
  {
   "cell_type": "code",
   "execution_count": 21,
   "id": "c08489d6",
   "metadata": {
    "execution": {
     "iopub.execute_input": "2021-11-07T21:49:07.766871Z",
     "iopub.status.busy": "2021-11-07T21:49:07.764411Z",
     "iopub.status.idle": "2021-11-07T21:49:07.781291Z",
     "shell.execute_reply": "2021-11-07T21:49:07.780600Z",
     "shell.execute_reply.started": "2021-11-07T20:38:47.762978Z"
    },
    "papermill": {
     "duration": 0.048298,
     "end_time": "2021-11-07T21:49:07.781433",
     "exception": false,
     "start_time": "2021-11-07T21:49:07.733135",
     "status": "completed"
    },
    "tags": []
   },
   "outputs": [],
   "source": [
    "# save predictions in a submission file\n",
    "test_ids[['id','label']].to_csv('./submission_final.csv', index=False)\n",
    "\n"
   ]
  },
  {
   "cell_type": "code",
   "execution_count": null,
   "id": "32068a09",
   "metadata": {
    "papermill": {
     "duration": 0.028064,
     "end_time": "2021-11-07T21:49:07.837726",
     "exception": false,
     "start_time": "2021-11-07T21:49:07.809662",
     "status": "completed"
    },
    "tags": []
   },
   "outputs": [],
   "source": []
  },
  {
   "cell_type": "code",
   "execution_count": 22,
   "id": "242de93d",
   "metadata": {
    "execution": {
     "iopub.execute_input": "2021-11-07T21:49:07.900064Z",
     "iopub.status.busy": "2021-11-07T21:49:07.899376Z",
     "iopub.status.idle": "2021-11-07T21:49:07.901326Z",
     "shell.execute_reply": "2021-11-07T21:49:07.901851Z",
     "shell.execute_reply.started": "2021-11-07T20:37:08.294743Z"
    },
    "papermill": {
     "duration": 0.035889,
     "end_time": "2021-11-07T21:49:07.902022",
     "exception": false,
     "start_time": "2021-11-07T21:49:07.866133",
     "status": "completed"
    },
    "tags": []
   },
   "outputs": [],
   "source": [
    "\n",
    "\n",
    "# # BUILD CONVOLUTIONAL NEURAL NETWORKS\n",
    "# nets = 8\n",
    "# model = [0] *nets\n",
    "\n",
    "# for j in range(8):\n",
    "#     model[j] = Sequential()\n",
    "#     model[j].add(Conv2D(32,kernel_size=5,activation='relu',input_shape=(32,32,1)))\n",
    "#     model[j].add(MaxPool2D())\n",
    "#     model[j].add(Dropout(j*0.1))\n",
    "#     model[j].add(Conv2D(64,kernel_size=5,activation='relu'))\n",
    "#     model[j].add(MaxPool2D())\n",
    "#     model[j].add(Dropout(j*0.1))\n",
    "#     model[j].add(Flatten())\n",
    "#     model[j].add(Dense(128, activation='relu'))\n",
    "#     model[j].add(Dropout(j*0.1))\n",
    "#     model[j].add(Dense(28, activation='softmax'))\n",
    "#     model[j].compile(optimizer=\"adam\", loss=\"categorical_crossentropy\", metrics=[\"accuracy\"]);\n",
    "\n"
   ]
  },
  {
   "cell_type": "code",
   "execution_count": 23,
   "id": "c9d433b3",
   "metadata": {
    "execution": {
     "iopub.execute_input": "2021-11-07T21:49:07.965487Z",
     "iopub.status.busy": "2021-11-07T21:49:07.963760Z",
     "iopub.status.idle": "2021-11-07T21:49:07.968310Z",
     "shell.execute_reply": "2021-11-07T21:49:07.968807Z",
     "shell.execute_reply.started": "2021-11-07T20:37:08.296364Z"
    },
    "papermill": {
     "duration": 0.037561,
     "end_time": "2021-11-07T21:49:07.969023",
     "exception": false,
     "start_time": "2021-11-07T21:49:07.931462",
     "status": "completed"
    },
    "tags": []
   },
   "outputs": [],
   "source": [
    "# # TRAIN NETWORKS\n",
    "# history = [0] * nets\n",
    "# names = [\"D=0\",\"D=0.1\",\"D=0.2\",\"D=0.3\",\"D=0.4\",\"D=0.5\",\"D=0.6\",\"D=0.7\"]\n",
    "# epochs = 30\n",
    "# for j in range(nets):\n",
    "#     history[j] = model[j].fit(x_train,y_train, batch_size=64, epochs = epochs, \n",
    "#         validation_data = (x_val,y_val), callbacks=[annealer], verbose=0)\n",
    "#     print(\"CNN {0}: Epochs={1:d}, Train accuracy={2:.5f}, Validation accuracy={3:.5f}\".format(\n",
    "#         names[j],epochs,max(history[j].history['acc']),max(history[j].history['val_acc']) ))"
   ]
  },
  {
   "cell_type": "code",
   "execution_count": null,
   "id": "2e15edcb",
   "metadata": {
    "papermill": {
     "duration": 0.028701,
     "end_time": "2021-11-07T21:49:08.026687",
     "exception": false,
     "start_time": "2021-11-07T21:49:07.997986",
     "status": "completed"
    },
    "tags": []
   },
   "outputs": [],
   "source": []
  }
 ],
 "metadata": {
  "kernelspec": {
   "display_name": "Python 3",
   "language": "python",
   "name": "python3"
  },
  "language_info": {
   "codemirror_mode": {
    "name": "ipython",
    "version": 3
   },
   "file_extension": ".py",
   "mimetype": "text/x-python",
   "name": "python",
   "nbconvert_exporter": "python",
   "pygments_lexer": "ipython3",
   "version": "3.7.10"
  },
  "papermill": {
   "default_parameters": {},
   "duration": 148.889993,
   "end_time": "2021-11-07T21:49:11.102329",
   "environment_variables": {},
   "exception": null,
   "input_path": "__notebook__.ipynb",
   "output_path": "__notebook__.ipynb",
   "parameters": {},
   "start_time": "2021-11-07T21:46:42.212336",
   "version": "2.3.3"
  }
 },
 "nbformat": 4,
 "nbformat_minor": 5
}
